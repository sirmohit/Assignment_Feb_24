{
 "cells": [
  {
   "cell_type": "markdown",
   "id": "a2a49fc9",
   "metadata": {},
   "source": [
    "Q1. List any five functions of the pandas library with execution."
   ]
  },
  {
   "cell_type": "code",
   "execution_count": 1,
   "id": "ef5a4dd8",
   "metadata": {},
   "outputs": [
    {
     "name": "stdout",
     "output_type": "stream",
     "text": [
      "       Sales  Profit\n",
      "count    3.0     3.0\n",
      "mean   150.0    10.0\n",
      "std     50.0     5.0\n",
      "min    100.0     5.0\n",
      "25%    125.0     7.5\n",
      "50%    150.0    10.0\n",
      "75%    175.0    12.5\n",
      "max    200.0    15.0\n",
      "\n",
      "  Product  Sales  Profit\n",
      "0       A  100.0    10.0\n",
      "1       B  150.0    15.0\n",
      "2       C    NaN     5.0\n",
      "3       D  200.0     NaN\n",
      "\n",
      "  Product  Sales  Profit\n",
      "0       A  100.0    10.0\n",
      "1       B  150.0    15.0\n",
      "2       C    NaN     5.0\n",
      "3       D  200.0     NaN\n",
      "\n",
      "<class 'pandas.core.frame.DataFrame'>\n",
      "RangeIndex: 4 entries, 0 to 3\n",
      "Data columns (total 3 columns):\n",
      " #   Column   Non-Null Count  Dtype  \n",
      "---  ------   --------------  -----  \n",
      " 0   Product  4 non-null      object \n",
      " 1   Sales    3 non-null      float64\n",
      " 2   Profit   3 non-null      float64\n",
      "dtypes: float64(2), object(1)\n",
      "memory usage: 224.0+ bytes\n",
      "None\n",
      "\n",
      "(4, 3)\n",
      "\n",
      "Index(['Product', 'Sales', 'Profit'], dtype='object')\n",
      "\n",
      "RangeIndex(start=0, stop=4, step=1)\n",
      "\n",
      "  Product  Sales  Profit\n",
      "0       A  100.0    10.0\n",
      "1       B  150.0    15.0\n",
      "\n",
      "  Product  Sales  Profit\n",
      "0       A  100.0    10.0\n",
      "1       B  150.0    15.0\n",
      "2       C    NaN     5.0\n",
      "3       D  200.0     NaN\n"
     ]
    }
   ],
   "source": [
    "'''Certainly! Here are five commonly used functions in the Pandas library along with their execution examples:\n",
    "\n",
    "head() and tail():\n",
    "\n",
    "head(): Returns the first n rows (by default, n=5).\n",
    "tail(): Returns the last n rows (by default, n=5).\n",
    "info(): Provides a concise summary of the DataFrame, including the data types of each column and memory usage.\n",
    "\n",
    "describe(): Generates descriptive statistics that summarize the central tendency, dispersion, and shape of the dataset's distribution.\n",
    "\n",
    "shape: Returns a tuple representing the dimensions of the DataFrame (rows, columns).\n",
    "\n",
    "columns: Returns the column labels of the DataFrame.\n",
    "\n",
    "index: Returns the index (row labels) of the DataFrame.\n",
    "'''\n",
    "\n",
    "#Example\n",
    "import pandas as pd\n",
    "data = {\n",
    "    'Product': ['A', 'B', 'C', 'D'],\n",
    "    'Sales': [100, 150, None, 200],\n",
    "    'Profit': [10, 15, 5, None]\n",
    "}\n",
    "df = pd.DataFrame(data)\n",
    "print(df.describe())\n",
    "print()\n",
    "print(df.head())\n",
    "print()\n",
    "print(df.tail())\n",
    "print()\n",
    "print(df.info())\n",
    "print()\n",
    "print(df.shape)\n",
    "print()\n",
    "print(df.columns)\n",
    "print()\n",
    "print(df.index)\n",
    "print()\n",
    "print(df.dropna())\n",
    "print()\n",
    "print(df)\n",
    "\n",
    "    "
   ]
  },
  {
   "cell_type": "markdown",
   "id": "40283282",
   "metadata": {},
   "source": [
    "Q2. Given a Pandas DataFrame df with columns 'A', 'B', and 'C', write a Python function to re-index the\n",
    "DataFrame with a new index that starts from 1 and increments by 2 for each row."
   ]
  },
  {
   "cell_type": "code",
   "execution_count": 2,
   "id": "ca7ef62c",
   "metadata": {},
   "outputs": [
    {
     "name": "stdout",
     "output_type": "stream",
     "text": [
      "Original DataFrame:\n",
      "    A   B   C\n",
      "0  10  40  70\n",
      "1  20  50  80\n",
      "2  30  60  90\n",
      "\n",
      "DataFrame after re-indexing:\n",
      "    A   B   C\n",
      "1  10  40  70\n",
      "3  20  50  80\n",
      "5  30  60  90\n"
     ]
    }
   ],
   "source": [
    "import pandas as pd\n",
    "\n",
    "def reindex_dataframe(df):\n",
    "    # Create a new index starting from 1 and incrementing by 2\n",
    "    new_index = range(1, 2 * len(df) + 1, 2)\n",
    "    \n",
    "    # Set the new index for the DataFrame\n",
    "    df_reindexed = df.set_index(pd.Index(new_index))\n",
    "    \n",
    "    return df_reindexed\n",
    "\n",
    "# Example DataFrame\n",
    "df = pd.DataFrame({\n",
    "    'A': [10, 20, 30],\n",
    "    'B': [40, 50, 60],\n",
    "    'C': [70, 80, 90]\n",
    "})\n",
    "\n",
    "print(\"Original DataFrame:\")\n",
    "print(df)\n",
    "\n",
    "# Re-index the DataFrame using the function\n",
    "df_reindexed = reindex_dataframe(df)\n",
    "\n",
    "print(\"\\nDataFrame after re-indexing:\")\n",
    "print(df_reindexed)\n",
    "\n"
   ]
  },
  {
   "cell_type": "markdown",
   "id": "43e03c59",
   "metadata": {},
   "source": [
    "Q3. You have a Pandas DataFrame df with a column named 'Values'. Write a Python function that\n",
    "iterates over the DataFrame and calculates the sum of the first three values in the 'Values' column. The\n",
    "function should print the sum to the console."
   ]
  },
  {
   "cell_type": "code",
   "execution_count": 3,
   "id": "551d85c5",
   "metadata": {},
   "outputs": [
    {
     "name": "stdout",
     "output_type": "stream",
     "text": [
      "Original DataFrame:\n",
      "   Values\n",
      "0      10\n",
      "1      20\n",
      "2      30\n",
      "3      40\n",
      "4      50\n",
      "The sum of the first three values in the 'Values' column is: 60\n"
     ]
    }
   ],
   "source": [
    "import pandas as pd\n",
    "\n",
    "def calculate_sum_of_first_three(df):\n",
    "    # Check if the DataFrame has the 'Values' column\n",
    "    if 'Values' not in df.columns:\n",
    "        print(\"The DataFrame does not have a column named 'Values'.\")\n",
    "        return\n",
    "    \n",
    "    # Calculate the sum of the first three values in the 'Values' column\n",
    "    sum_of_first_three = df['Values'].iloc[:3].sum()\n",
    "    \n",
    "    # Print the sum to the console\n",
    "    print(f\"The sum of the first three values in the 'Values' column is: {sum_of_first_three}\")\n",
    "\n",
    "# Example DataFrame\n",
    "df = pd.DataFrame({\n",
    "    'Values': [10,20,30,40,50]\n",
    "})\n",
    "\n",
    "print(\"Original DataFrame:\")\n",
    "print(df)\n",
    "\n",
    "# Call the function to calculate the sum of the first three values\n",
    "calculate_sum_of_first_three(df)\n"
   ]
  },
  {
   "cell_type": "markdown",
   "id": "976d703a",
   "metadata": {},
   "source": [
    "Q4. Given a Pandas DataFrame df with a column 'Text', write a Python function to create a new column\n",
    "'Word_Count' that contains the number of words in each row of the 'Text' column."
   ]
  },
  {
   "cell_type": "code",
   "execution_count": 4,
   "id": "de337ad8",
   "metadata": {},
   "outputs": [
    {
     "name": "stdout",
     "output_type": "stream",
     "text": [
      "Original DataFrame:\n",
      "              Text\n",
      "0    Hello, world!\n",
      "1  Python is great\n",
      "2     Data Science\n",
      "\n",
      "DataFrame with Word_Count:\n",
      "              Text  Word_Count\n",
      "0    Hello, world!           2\n",
      "1  Python is great           3\n",
      "2     Data Science           2\n"
     ]
    }
   ],
   "source": [
    "import pandas as pd\n",
    "\n",
    "def calculate_word_count(df):\n",
    "    # Check if the DataFrame has the 'Text' column\n",
    "    if 'Text' not in df.columns:\n",
    "        print(\"The DataFrame does not have a column named 'Text'.\")\n",
    "        return\n",
    "    \n",
    "    # Create a new column 'Word_Count' containing the number of words in each row of the 'Text' column\n",
    "    df['Word_Count'] = df['Text'].apply(lambda x: len(str(x).split()))\n",
    "    \n",
    "    return df\n",
    "\n",
    "# Example DataFrame\n",
    "df = pd.DataFrame({\n",
    "    'Text': ['Hello, world!', 'Python is great', 'Data Science']\n",
    "})\n",
    "\n",
    "print(\"Original DataFrame:\")\n",
    "print(df)\n",
    "\n",
    "# Call the function to create the 'Word_Count' column\n",
    "df_with_word_count = calculate_word_count(df)\n",
    "\n",
    "print(\"\\nDataFrame with Word_Count:\")\n",
    "print(df_with_word_count)\n"
   ]
  },
  {
   "cell_type": "markdown",
   "id": "1b7c5247",
   "metadata": {},
   "source": [
    "Q5. How are DataFrame.size() and DataFrame.shape() different?"
   ]
  },
  {
   "cell_type": "code",
   "execution_count": 5,
   "id": "0cb5710b",
   "metadata": {},
   "outputs": [
    {
     "name": "stdout",
     "output_type": "stream",
     "text": [
      "DataFrame.size: 6\n",
      "\n",
      "DataFrame.shape: (3, 2)\n"
     ]
    }
   ],
   "source": [
    "'''DataFrame.size:\n",
    "\n",
    "Returns the total number of elements in the DataFrame.\n",
    "It is calculated as the product of the number of rows and columns in the DataFrame.\n",
    "The size attribute provides the count of all elements, not just unique elements.'''\n",
    "\n",
    "#Example\n",
    "\n",
    "import pandas as pd\n",
    "\n",
    "# Create a sample DataFrame\n",
    "df = pd.DataFrame({'A': [1, 2, 3], 'B': [4, 5, 6]})\n",
    "\n",
    "# Print the size of the DataFrame\n",
    "print(\"DataFrame.size:\", df.size)  # Output will be 6 (3 rows * 2 columns)\n",
    "print()\n",
    "\n",
    "'''DataFrame.shape:\n",
    "\n",
    "Returns a tuple representing the dimensions of the DataFrame.\n",
    "The tuple contains two elements: the number of rows followed by the number of columns.\n",
    "It provides a clearer understanding of the DataFrame's structure in terms of its dimensions.'''\n",
    "\n",
    "#Example\n",
    "\n",
    "import pandas as pd\n",
    "\n",
    "# Create a sample DataFrame\n",
    "df = pd.DataFrame({'A': [1, 2, 3], 'B': [4, 5, 6]})\n",
    "\n",
    "# Print the shape of the DataFrame\n",
    "print(\"DataFrame.shape:\", df.shape)  # Output will be (3, 2) indicating 3 rows and 2 columns\n"
   ]
  },
  {
   "cell_type": "markdown",
   "id": "e21c50f7",
   "metadata": {},
   "source": [
    "Q6. Which function of pandas do we use to read an excel file?\n",
    "\n",
    "\n",
    "    \n",
    "    "
   ]
  },
  {
   "cell_type": "markdown",
   "id": "f01d5edc",
   "metadata": {},
   "source": [
    "Ans:\n",
    "    \n",
    "        import pandas as pd\n",
    "\n",
    "    # Specify the path to the Excel file\n",
    "    excel_file_path = 'path_to_your_excel_file.xlsx'  # Replace with your file path\n",
    "\n",
    "    # Read the Excel file and create a DataFrame\n",
    "    df = pd.read_excel(excel_file_path)\n",
    "\n",
    "    # Display the first few rows of the DataFrame\n",
    "    print(df.head())\n"
   ]
  },
  {
   "cell_type": "markdown",
   "id": "ddda986a",
   "metadata": {},
   "source": [
    "Q7. You have a Pandas DataFrame df that contains a column named 'Email' that contains email\n",
    "addresses in the format 'username@domain.com'. Write a Python function that creates a new column\n",
    "'Username' in df that contains only the username part of each email address.\n",
    "The username is the part of the email address that appears before the '@' symbol. For example, if the\n",
    "email address is 'john.doe@example.com', the 'Username' column should contain 'john.doe'. Your\n",
    "function should extract the username from each email address and store it in the new 'Username'\n",
    "column."
   ]
  },
  {
   "cell_type": "code",
   "execution_count": 6,
   "id": "5d4a8bf3",
   "metadata": {},
   "outputs": [
    {
     "name": "stdout",
     "output_type": "stream",
     "text": [
      "Original DataFrame:\n",
      "                        Email\n",
      "0        john.doe@example.com\n",
      "1      jane.smith@example.com\n",
      "2  robert.johnson@example.com\n",
      "\n",
      "DataFrame with Username:\n",
      "                        Email        Username\n",
      "0        john.doe@example.com        john.doe\n",
      "1      jane.smith@example.com      jane.smith\n",
      "2  robert.johnson@example.com  robert.johnson\n"
     ]
    }
   ],
   "source": [
    "import pandas as pd\n",
    "\n",
    "def extract_username(df):\n",
    "    # Check if the DataFrame has the 'Email' column\n",
    "    if 'Email' not in df.columns:\n",
    "        print(\"The DataFrame does not have a column named 'Email'.\")\n",
    "        return\n",
    "    \n",
    "    # Extract the username from the 'Email' column\n",
    "    df['Username'] = df['Email'].str.split('@').str[0]\n",
    "    \n",
    "    return df\n",
    "\n",
    "# Example DataFrame\n",
    "df = pd.DataFrame({\n",
    "    'Email': ['john.doe@example.com', 'jane.smith@example.com', 'robert.johnson@example.com']\n",
    "})\n",
    "\n",
    "print(\"Original DataFrame:\")\n",
    "print(df)\n",
    "\n",
    "# Call the function to extract the username and create the 'Username' column\n",
    "df_with_username = extract_username(df)\n",
    "\n",
    "print(\"\\nDataFrame with Username:\")\n",
    "print(df_with_username)\n",
    "\n"
   ]
  },
  {
   "cell_type": "markdown",
   "id": "3f7b63e9",
   "metadata": {},
   "source": [
    "Q8. You have a Pandas DataFrame df with columns 'A', 'B', and 'C'. Write a Python function that selects\n",
    "all rows where the value in column 'A' is greater than 5 and the value in column 'B' is less than 10. The\n",
    "function should return a new DataFrame that contains only the selected rows.\n",
    "For example, if df contains the following values:\n",
    "A B C\n",
    "0 3 5 1\n",
    "1 8 2 7\n",
    "2 6 9 4\n",
    "3 2 3 5\n",
    "4 9 1 2\n",
    "\n",
    "Your function should select the following rows: A B C\n",
    "1 8 2 7\n",
    "4 9 1 2\n",
    "The function should return a new DataFrame that contains only the selected rows."
   ]
  },
  {
   "cell_type": "code",
   "execution_count": 7,
   "id": "7cc2a5e2",
   "metadata": {},
   "outputs": [
    {
     "name": "stdout",
     "output_type": "stream",
     "text": [
      "Original DataFrame:\n",
      "   A  B  C\n",
      "0  3  5  1\n",
      "1  8  2  7\n",
      "2  6  9  4\n",
      "3  2  3  5\n",
      "4  9  1  2\n",
      "\n",
      "Filtered DataFrame:\n",
      "   A  B  C\n",
      "1  8  2  7\n",
      "2  6  9  4\n",
      "4  9  1  2\n"
     ]
    }
   ],
   "source": [
    "import pandas as pd\n",
    "\n",
    "def filter_dataframe(df):\n",
    "    # Check if the DataFrame has columns 'A' and 'B'\n",
    "    if 'A' not in df.columns or 'B' not in df.columns:\n",
    "        print(\"The DataFrame does not have columns 'A' and 'B'.\")\n",
    "        return\n",
    "    \n",
    "    # Filter the DataFrame based on the conditions\n",
    "    filtered_df = df[(df['A'] > 5) & (df['B'] < 10)]\n",
    "    \n",
    "    return filtered_df\n",
    "\n",
    "# Create the original DataFrame\n",
    "df = pd.DataFrame({\n",
    "    'A': [3, 8, 6, 2, 9],\n",
    "    'B': [5, 2, 9, 3, 1],\n",
    "    'C': [1, 7, 4, 5, 2]\n",
    "})\n",
    "\n",
    "print(\"Original DataFrame:\")\n",
    "print(df)\n",
    "\n",
    "# Call the function to filter the DataFrame based on the conditions\n",
    "filtered_df = filter_dataframe(df)\n",
    "\n",
    "print(\"\\nFiltered DataFrame:\")\n",
    "print(filtered_df)\n"
   ]
  },
  {
   "cell_type": "markdown",
   "id": "a8e5b64b",
   "metadata": {},
   "source": [
    "Q9. Given a Pandas DataFrame df with a column 'Values', write a Python function to calculate the mean,\n",
    "median, and standard deviation of the values in the 'Values' column."
   ]
  },
  {
   "cell_type": "code",
   "execution_count": 8,
   "id": "533e459f",
   "metadata": {},
   "outputs": [
    {
     "name": "stdout",
     "output_type": "stream",
     "text": [
      "Original DataFrame:\n",
      "   Values\n",
      "0      10\n",
      "1      20\n",
      "2      30\n",
      "3      40\n",
      "4      50\n",
      "5      60\n",
      "6      70\n",
      "7      80\n",
      "8      90\n",
      "9     100\n",
      "\n",
      "Mean of 'Values': 55.0\n",
      "Median of 'Values': 55.0\n",
      "Standard Deviation of 'Values': 30.276503540974915\n"
     ]
    }
   ],
   "source": [
    "import pandas as pd\n",
    "\n",
    "def calculate_stats(df):\n",
    "    # Check if the DataFrame has the 'Values' column\n",
    "    if 'Values' not in df.columns:\n",
    "        print(\"The DataFrame does not have a column named 'Values'.\")\n",
    "        return\n",
    "    \n",
    "    # Calculate the mean, median, and standard deviation of the 'Values' column\n",
    "    mean_value = df['Values'].mean()\n",
    "    median_value = df['Values'].median()\n",
    "    std_deviation = df['Values'].std()\n",
    "    \n",
    "    # Return the calculated statistics\n",
    "    return mean_value, median_value, std_deviation\n",
    "\n",
    "# Create the original DataFrame\n",
    "df = pd.DataFrame({\n",
    "    'Values': [10, 20, 30, 40, 50, 60, 70, 80, 90, 100]\n",
    "})\n",
    "\n",
    "print(\"Original DataFrame:\")\n",
    "print(df)\n",
    "\n",
    "# Call the function to calculate the mean, median, and standard deviation\n",
    "mean_value, median_value, std_deviation = calculate_stats(df)\n",
    "\n",
    "print(\"\\nMean of 'Values':\", mean_value)\n",
    "print(\"Median of 'Values':\", median_value)\n",
    "print(\"Standard Deviation of 'Values':\", std_deviation)\n"
   ]
  },
  {
   "cell_type": "markdown",
   "id": "39aa255e",
   "metadata": {},
   "source": [
    "Q10. Given a Pandas DataFrame df with a column 'Sales' and a column 'Date', write a Python function to\n",
    "create a new column 'MovingAverage' that contains the moving average of the sales for the past 7 days\n",
    "for each row in the DataFrame. The moving average should be calculated using a window of size 7 and\n",
    "should include the current day."
   ]
  },
  {
   "cell_type": "code",
   "execution_count": 9,
   "id": "4120bb76",
   "metadata": {},
   "outputs": [
    {
     "name": "stdout",
     "output_type": "stream",
     "text": [
      "Original DataFrame:\n",
      "        Date  Sales\n",
      "0 2022-01-01    100\n",
      "1 2022-01-02    110\n",
      "2 2022-01-03    105\n",
      "3 2022-01-04    115\n",
      "4 2022-01-05    120\n",
      "5 2022-01-06    125\n",
      "6 2022-01-07    130\n",
      "7 2022-01-08    135\n",
      "8 2022-01-09    140\n",
      "9 2022-01-10    145\n",
      "\n",
      "DataFrame with Moving Average:\n",
      "        Date  Sales  MovingAverage\n",
      "0 2022-01-01    100     100.000000\n",
      "1 2022-01-02    110     105.000000\n",
      "2 2022-01-03    105     105.000000\n",
      "3 2022-01-04    115     107.500000\n",
      "4 2022-01-05    120     110.000000\n",
      "5 2022-01-06    125     112.500000\n",
      "6 2022-01-07    130     115.000000\n",
      "7 2022-01-08    135     120.000000\n",
      "8 2022-01-09    140     124.285714\n",
      "9 2022-01-10    145     130.000000\n"
     ]
    }
   ],
   "source": [
    "import pandas as pd\n",
    "\n",
    "def calculate_moving_average(df):\n",
    "    # Check if the DataFrame has the 'Sales' and 'Date' columns\n",
    "    if 'Sales' not in df.columns or 'Date' not in df.columns:\n",
    "        print(\"The DataFrame is missing either 'Sales' or 'Date' column.\")\n",
    "        return\n",
    "    \n",
    "    # Sort the DataFrame by the 'Date' column if it's not already sorted\n",
    "    df = df.sort_values(by='Date')\n",
    "    \n",
    "    # Calculate the moving average using a window of size 7\n",
    "    df['MovingAverage'] = df['Sales'].rolling(window=7, min_periods=1).mean()\n",
    "    \n",
    "    return df\n",
    "\n",
    "# Create the original DataFrame\n",
    "df = pd.DataFrame({\n",
    "    'Date': pd.date_range(start='2022-01-01', end='2022-01-10'),\n",
    "    'Sales': [100, 110, 105, 115, 120, 125, 130, 135, 140, 145]\n",
    "})\n",
    "\n",
    "print(\"Original DataFrame:\")\n",
    "print(df)\n",
    "\n",
    "# Call the function to calculate the moving average\n",
    "df_with_moving_average = calculate_moving_average(df)\n",
    "\n",
    "print(\"\\nDataFrame with Moving Average:\")\n",
    "print(df_with_moving_average)\n"
   ]
  },
  {
   "cell_type": "markdown",
   "id": "79276006",
   "metadata": {},
   "source": [
    "Q11. You have a Pandas DataFrame df with a column 'Date'. Write a Python function that creates a new\n",
    "column 'Weekday' in the DataFrame. The 'Weekday' column should contain the weekday name (e.g.\n",
    "Monday, Tuesday) corresponding to each date in the 'Date' column.\n",
    "For example, if df contains the following values:\n",
    "Date\n",
    "0 2023-01-01\n",
    "1 2023-01-02\n",
    "2 2023-01-03\n",
    "3 2023-01-04\n",
    "4 2023-01-05\n",
    "Your function should create the following DataFrame:\n",
    "\n",
    "Date Weekday\n",
    "0 2023-01-01 Sunday\n",
    "1 2023-01-02 Monday\n",
    "2 2023-01-03 Tuesday\n",
    "3 2023-01-04 Wednesday\n",
    "4 2023-01-05 Thursday\n",
    "The function should return the modified DataFrame."
   ]
  },
  {
   "cell_type": "code",
   "execution_count": 10,
   "id": "f99be8d0",
   "metadata": {},
   "outputs": [
    {
     "name": "stdout",
     "output_type": "stream",
     "text": [
      "Original DataFrame:\n",
      "         Date\n",
      "0  2023-01-01\n",
      "1  2023-01-02\n",
      "2  2023-01-03\n",
      "3  2023-01-04\n",
      "4  2023-01-05\n",
      "\n",
      "DataFrame with Weekday Column:\n",
      "        Date    Weekday\n",
      "0 2023-01-01     Sunday\n",
      "1 2023-01-02     Monday\n",
      "2 2023-01-03    Tuesday\n",
      "3 2023-01-04  Wednesday\n",
      "4 2023-01-05   Thursday\n"
     ]
    }
   ],
   "source": [
    "import pandas as pd\n",
    "\n",
    "def add_weekday_column(df):\n",
    "    # Check if the DataFrame has the 'Date' column\n",
    "    if 'Date' not in df.columns:\n",
    "        print(\"The DataFrame does not have a column named 'Date'.\")\n",
    "        return\n",
    "    \n",
    "    # Convert the 'Date' column to datetime format if it's not already in datetime format\n",
    "    df['Date'] = pd.to_datetime(df['Date'])\n",
    "    \n",
    "    # Create the 'Weekday' column containing the weekday names\n",
    "    df['Weekday'] = df['Date'].dt.day_name()\n",
    "    \n",
    "    return df\n",
    "\n",
    "# Create the original DataFrame\n",
    "df = pd.DataFrame({\n",
    "    'Date': ['2023-01-01', '2023-01-02', '2023-01-03', '2023-01-04', '2023-01-05']\n",
    "})\n",
    "\n",
    "print(\"Original DataFrame:\")\n",
    "print(df)\n",
    "\n",
    "# Call the function to add the 'Weekday' column\n",
    "df_with_weekday = add_weekday_column(df)\n",
    "\n",
    "print(\"\\nDataFrame with Weekday Column:\")\n",
    "print(df_with_weekday)\n"
   ]
  },
  {
   "cell_type": "markdown",
   "id": "74a7325e",
   "metadata": {},
   "source": [
    "Q12. Given a Pandas DataFrame df with a column 'Date' that contains timestamps, write a Python\n",
    "function to select all rows where the date is between '2023-01-01' and '2023-01-31'."
   ]
  },
  {
   "cell_type": "code",
   "execution_count": 11,
   "id": "424a3f2f",
   "metadata": {},
   "outputs": [
    {
     "name": "stdout",
     "output_type": "stream",
     "text": [
      "Original DataFrame:\n",
      "         Date\n",
      "0  2023-01-01\n",
      "1  2023-01-15\n",
      "2  2023-01-31\n",
      "3  2023-02-01\n",
      "4  2023-02-15\n",
      "\n",
      "DataFrame with Date between '2023-01-01' and '2023-01-31':\n",
      "        Date\n",
      "0 2023-01-01\n",
      "1 2023-01-15\n",
      "2 2023-01-31\n"
     ]
    }
   ],
   "source": [
    "import pandas as pd\n",
    "\n",
    "def filter_by_date_range(df):\n",
    "    # Check if the DataFrame has the 'Date' column\n",
    "    if 'Date' not in df.columns:\n",
    "        print(\"The DataFrame does not have a column named 'Date'.\")\n",
    "        return\n",
    "    \n",
    "    # Convert the 'Date' column to datetime format if it's not already in datetime format\n",
    "    df['Date'] = pd.to_datetime(df['Date'])\n",
    "    \n",
    "    # Filter the DataFrame to select rows where the 'Date' is between '2023-01-01' and '2023-01-31'\n",
    "    filtered_df = df[(df['Date'] >= '2023-01-01') & (df['Date'] <= '2023-01-31')]\n",
    "    \n",
    "    return filtered_df\n",
    "\n",
    "# Create the original DataFrame\n",
    "df = pd.DataFrame({\n",
    "    'Date': ['2023-01-01', '2023-01-15', '2023-01-31', '2023-02-01', '2023-02-15']\n",
    "})\n",
    "\n",
    "print(\"Original DataFrame:\")\n",
    "print(df)\n",
    "\n",
    "# Call the function to filter rows based on the date range\n",
    "filtered_df = filter_by_date_range(df)\n",
    "\n",
    "print(\"\\nDataFrame with Date between '2023-01-01' and '2023-01-31':\")\n",
    "print(filtered_df)\n"
   ]
  },
  {
   "cell_type": "markdown",
   "id": "16e7f3b9",
   "metadata": {},
   "source": [
    "Q13. To use the basic functions of pandas, what is the first and foremost necessary library that needs to\n",
    "be imported?"
   ]
  },
  {
   "cell_type": "markdown",
   "id": "9eb62357",
   "metadata": {},
   "source": [
    "Ans : \n",
    "    \n",
    "    To use the basic functions of pandas, the first and foremost necessary library that needs to be imported is pandas itself.\n",
    "    \n",
    "    import pandas as pd"
   ]
  },
  {
   "cell_type": "code",
   "execution_count": null,
   "id": "21e900a1",
   "metadata": {},
   "outputs": [],
   "source": []
  }
 ],
 "metadata": {
  "kernelspec": {
   "display_name": "Python 3 (ipykernel)",
   "language": "python",
   "name": "python3"
  },
  "language_info": {
   "codemirror_mode": {
    "name": "ipython",
    "version": 3
   },
   "file_extension": ".py",
   "mimetype": "text/x-python",
   "name": "python",
   "nbconvert_exporter": "python",
   "pygments_lexer": "ipython3",
   "version": "3.9.13"
  }
 },
 "nbformat": 4,
 "nbformat_minor": 5
}
